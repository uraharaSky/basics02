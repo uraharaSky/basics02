{
 "cells": [
  {
   "metadata": {},
   "cell_type": "markdown",
   "source": [
    "                            |--------------------------------------------------------------------|\n",
    "                            | Sl.no | Degree           | Institution Name          | Year | CGPA |\n",
    "                            |-------|------------------|---------------------------|------|------|\n",
    "                            | 1.    | Higher secondary | Vikash Residential School | 2020 | 9.3  |\n",
    "                            |       |                  |                           |      |      |\n",
    "                            | 2.    | Senior secondary | Vikash Residential School | 2022 | 9.1  |\n",
    "                            |       |                  |                           |      |      |\n",
    "                            | 3.    | College(4th Sem) | IIIT Bhubaneswar          | 2025 | 8.14 |\n",
    "                            |--------------------------------------------------------------------|"
   ],
   "id": "d9470faea3cd0c4f"
  },
  {
   "metadata": {},
   "cell_type": "code",
   "source": [
    "name = input(\"Enter your name: \")\n",
    "age = input(\"Enter your age: \")\n",
    "institution = input(\"Enter your institution: \")\n",
    "education = input(\"Enter your education: \")\n",
    "skills = []\n",
    "for skill in input(\"Enter your skills: \").split():\n",
    "    skills.append(skill)\n",
    "print(\"-----------------------------------------My Bio-Data-----------------------------------------\")\n",
    "print(f\"| Name: {name}                                                                             \".center(160))\n",
    "print(f\"| Age: {age}                                                                               \".center(160))\n",
    "print(f\"| Institution: {institution}                                                               \".center(160))\n",
    "print(f\"| Education: {education}                                                                   \".center(160))\n",
    "print(\" Skills:                                                                                   \".center(160))\n",
    "for skill in skills:\n",
    "    print(skill)\n",
    "\n",
    "\n"
   ],
   "id": "18008fb6af5ac55f",
   "outputs": [],
   "execution_count": null
  },
  {
   "metadata": {},
   "cell_type": "markdown",
   "source": [
    "        ----------------------------------------------------------------------\n",
    "        | Sl.no | Degree           | Institution Name          | Year | CGPA |\n",
    "        |-------|------------------|---------------------------|------|------|\n",
    "        | 1.    | Higher secondary | Vikash Residential School | 2020 | 9.3  |\n",
    "        |       |                  |                           |      |      |\n",
    "        | 2.    | Senior secondary | Vikash Residential School | 2022 | 9.1  |\n",
    "        |       |                  |                           |      |      |\n",
    "        | 3.    | College(4th Sem) | IIIT Bhubaneswar          | 2025 | 8.14 |\n",
    "        ----------------------------------------------------------------------\n"
   ],
   "id": "390ce9f506d8770d"
  },
  {
   "metadata": {},
   "cell_type": "markdown",
   "source": "|----------------------------------------------------------------------------------------------------------------------------------------|",
   "id": "cb1bcecbe67c0dd6"
  },
  {
   "metadata": {
    "ExecuteTime": {
     "end_time": "2025-06-06T10:29:50.286902Z",
     "start_time": "2025-06-06T10:29:50.279544Z"
    }
   },
   "cell_type": "code",
   "source": "print(\"%8.2F\" % 3.560897)",
   "id": "7db6b510825f3693",
   "outputs": [
    {
     "name": "stdout",
     "output_type": "stream",
     "text": [
      "    3.56\n"
     ]
    }
   ],
   "execution_count": 33
  },
  {
   "metadata": {},
   "cell_type": "code",
   "outputs": [],
   "execution_count": null,
   "source": "",
   "id": "cae1b8ea41428800"
  }
 ],
 "metadata": {
  "kernelspec": {
   "display_name": "Python 3",
   "language": "python",
   "name": "python3"
  },
  "language_info": {
   "codemirror_mode": {
    "name": "ipython",
    "version": 2
   },
   "file_extension": ".py",
   "mimetype": "text/x-python",
   "name": "python",
   "nbconvert_exporter": "python",
   "pygments_lexer": "ipython2",
   "version": "2.7.6"
  }
 },
 "nbformat": 4,
 "nbformat_minor": 5
}
