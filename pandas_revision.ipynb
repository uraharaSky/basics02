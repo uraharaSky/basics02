{
 "cells": [
  {
   "metadata": {
    "ExecuteTime": {
     "end_time": "2025-06-15T06:13:15.876120Z",
     "start_time": "2025-06-15T06:13:13.900289Z"
    }
   },
   "cell_type": "code",
   "source": "import pandas as pd",
   "id": "992b32c476c84354",
   "outputs": [],
   "execution_count": 2
  },
  {
   "cell_type": "code",
   "id": "initial_id",
   "metadata": {
    "collapsed": true,
    "ExecuteTime": {
     "end_time": "2025-06-15T06:13:16.658644Z",
     "start_time": "2025-06-15T06:13:15.892228Z"
    }
   },
   "source": "df = pd.read_excel(\"uploads/employee_data_for_pandas_revision.xlsx\")",
   "outputs": [],
   "execution_count": 3
  },
  {
   "metadata": {
    "ExecuteTime": {
     "end_time": "2025-06-15T06:13:16.836587Z",
     "start_time": "2025-06-15T06:13:16.804447Z"
    }
   },
   "cell_type": "code",
   "source": "df",
   "id": "1b10143be9f6bcac",
   "outputs": [
    {
     "data": {
      "text/plain": [
       "            Name  Age                      Email     Phone_Number Country  \\\n",
       "0  Alice Johnson   28  alice.johnson@example.com   (123) 456-7890     USA   \n",
       "1      Bob Smith   34      bob.smith@example.com     987-654-3210     USA   \n",
       "2    Charlie Lee   22     charlie.lee@sample.net              NaN  Canada   \n",
       "3   Diana Prince   29    diana.prince@wonder.org  +91-99999-88888      UK   \n",
       "4      Ethan Ray   40       ethan.ray@company.io     555.123.4567   India   \n",
       "\n",
       "   Salary   Department  Join_Date Performance_Score  \n",
       "0   72000    Marketing 2020-01-15                 A  \n",
       "1   85000        Sales 2019-03-22                 B  \n",
       "2   50000  Engineering 2021-07-19                 C  \n",
       "3   95000           HR 2018-11-30                 A  \n",
       "4   67000  Engineering 2022-05-10                 B  "
      ],
      "text/html": [
       "<div>\n",
       "<style scoped>\n",
       "    .dataframe tbody tr th:only-of-type {\n",
       "        vertical-align: middle;\n",
       "    }\n",
       "\n",
       "    .dataframe tbody tr th {\n",
       "        vertical-align: top;\n",
       "    }\n",
       "\n",
       "    .dataframe thead th {\n",
       "        text-align: right;\n",
       "    }\n",
       "</style>\n",
       "<table border=\"1\" class=\"dataframe\">\n",
       "  <thead>\n",
       "    <tr style=\"text-align: right;\">\n",
       "      <th></th>\n",
       "      <th>Name</th>\n",
       "      <th>Age</th>\n",
       "      <th>Email</th>\n",
       "      <th>Phone_Number</th>\n",
       "      <th>Country</th>\n",
       "      <th>Salary</th>\n",
       "      <th>Department</th>\n",
       "      <th>Join_Date</th>\n",
       "      <th>Performance_Score</th>\n",
       "    </tr>\n",
       "  </thead>\n",
       "  <tbody>\n",
       "    <tr>\n",
       "      <th>0</th>\n",
       "      <td>Alice Johnson</td>\n",
       "      <td>28</td>\n",
       "      <td>alice.johnson@example.com</td>\n",
       "      <td>(123) 456-7890</td>\n",
       "      <td>USA</td>\n",
       "      <td>72000</td>\n",
       "      <td>Marketing</td>\n",
       "      <td>2020-01-15</td>\n",
       "      <td>A</td>\n",
       "    </tr>\n",
       "    <tr>\n",
       "      <th>1</th>\n",
       "      <td>Bob Smith</td>\n",
       "      <td>34</td>\n",
       "      <td>bob.smith@example.com</td>\n",
       "      <td>987-654-3210</td>\n",
       "      <td>USA</td>\n",
       "      <td>85000</td>\n",
       "      <td>Sales</td>\n",
       "      <td>2019-03-22</td>\n",
       "      <td>B</td>\n",
       "    </tr>\n",
       "    <tr>\n",
       "      <th>2</th>\n",
       "      <td>Charlie Lee</td>\n",
       "      <td>22</td>\n",
       "      <td>charlie.lee@sample.net</td>\n",
       "      <td>NaN</td>\n",
       "      <td>Canada</td>\n",
       "      <td>50000</td>\n",
       "      <td>Engineering</td>\n",
       "      <td>2021-07-19</td>\n",
       "      <td>C</td>\n",
       "    </tr>\n",
       "    <tr>\n",
       "      <th>3</th>\n",
       "      <td>Diana Prince</td>\n",
       "      <td>29</td>\n",
       "      <td>diana.prince@wonder.org</td>\n",
       "      <td>+91-99999-88888</td>\n",
       "      <td>UK</td>\n",
       "      <td>95000</td>\n",
       "      <td>HR</td>\n",
       "      <td>2018-11-30</td>\n",
       "      <td>A</td>\n",
       "    </tr>\n",
       "    <tr>\n",
       "      <th>4</th>\n",
       "      <td>Ethan Ray</td>\n",
       "      <td>40</td>\n",
       "      <td>ethan.ray@company.io</td>\n",
       "      <td>555.123.4567</td>\n",
       "      <td>India</td>\n",
       "      <td>67000</td>\n",
       "      <td>Engineering</td>\n",
       "      <td>2022-05-10</td>\n",
       "      <td>B</td>\n",
       "    </tr>\n",
       "  </tbody>\n",
       "</table>\n",
       "</div>"
      ]
     },
     "execution_count": 4,
     "metadata": {},
     "output_type": "execute_result"
    }
   ],
   "execution_count": 4
  },
  {
   "metadata": {
    "ExecuteTime": {
     "end_time": "2025-06-15T06:13:17.104325Z",
     "start_time": "2025-06-15T06:13:17.092316Z"
    }
   },
   "cell_type": "code",
   "source": [
    "#Basic Exploration\n",
    "basic_info = {\n",
    "    \"shape \": df.shape,    #gives the rows x columns number.\n",
    "    \"columns\" : df.columns.tolist(),    #gives the headers name in a list.\n",
    "    \"dtypes\" : df.dtypes,  #gives the data type of the data stored in each column\n",
    "    \"index\" : df.index\n",
    "}\n",
    "\n",
    "print(basic_info)"
   ],
   "id": "28a71b45970a2d65",
   "outputs": [
    {
     "name": "stdout",
     "output_type": "stream",
     "text": [
      "{'shape ': (5, 9), 'columns': ['Name', 'Age', 'Email', 'Phone_Number', 'Country', 'Salary', 'Department', 'Join_Date', 'Performance_Score'], 'dtypes': Name                         object\n",
      "Age                           int64\n",
      "Email                        object\n",
      "Phone_Number                 object\n",
      "Country                      object\n",
      "Salary                        int64\n",
      "Department                   object\n",
      "Join_Date            datetime64[ns]\n",
      "Performance_Score            object\n",
      "dtype: object, 'index': RangeIndex(start=0, stop=5, step=1)}\n"
     ]
    }
   ],
   "execution_count": 5
  },
  {
   "metadata": {
    "ExecuteTime": {
     "end_time": "2025-06-15T06:13:17.648435Z",
     "start_time": "2025-06-15T06:13:17.620937Z"
    }
   },
   "cell_type": "code",
   "source": [
    "#Cleaning the data\n",
    "df.columns = df.columns.str.strip()\n",
    "df['Phone_Number'] = df['Phone_Number'].str.replace(r'[^0-9]', \"\", regex=True)\n",
    "df['Phone_Number'] = df['Phone_Number'].fillna(\"\")\n",
    "df['Phone_Number'] = df['Phone_Number'].apply(lambda x: x[-10:] if len(x)>10 else x)\n",
    "df"
   ],
   "id": "9f2f0cef0ac18c05",
   "outputs": [
    {
     "data": {
      "text/plain": [
       "            Name  Age                      Email Phone_Number Country  Salary  \\\n",
       "0  Alice Johnson   28  alice.johnson@example.com   1234567890     USA   72000   \n",
       "1      Bob Smith   34      bob.smith@example.com   9876543210     USA   85000   \n",
       "2    Charlie Lee   22     charlie.lee@sample.net               Canada   50000   \n",
       "3   Diana Prince   29    diana.prince@wonder.org   9999988888      UK   95000   \n",
       "4      Ethan Ray   40       ethan.ray@company.io   5551234567   India   67000   \n",
       "\n",
       "    Department  Join_Date Performance_Score  \n",
       "0    Marketing 2020-01-15                 A  \n",
       "1        Sales 2019-03-22                 B  \n",
       "2  Engineering 2021-07-19                 C  \n",
       "3           HR 2018-11-30                 A  \n",
       "4  Engineering 2022-05-10                 B  "
      ],
      "text/html": [
       "<div>\n",
       "<style scoped>\n",
       "    .dataframe tbody tr th:only-of-type {\n",
       "        vertical-align: middle;\n",
       "    }\n",
       "\n",
       "    .dataframe tbody tr th {\n",
       "        vertical-align: top;\n",
       "    }\n",
       "\n",
       "    .dataframe thead th {\n",
       "        text-align: right;\n",
       "    }\n",
       "</style>\n",
       "<table border=\"1\" class=\"dataframe\">\n",
       "  <thead>\n",
       "    <tr style=\"text-align: right;\">\n",
       "      <th></th>\n",
       "      <th>Name</th>\n",
       "      <th>Age</th>\n",
       "      <th>Email</th>\n",
       "      <th>Phone_Number</th>\n",
       "      <th>Country</th>\n",
       "      <th>Salary</th>\n",
       "      <th>Department</th>\n",
       "      <th>Join_Date</th>\n",
       "      <th>Performance_Score</th>\n",
       "    </tr>\n",
       "  </thead>\n",
       "  <tbody>\n",
       "    <tr>\n",
       "      <th>0</th>\n",
       "      <td>Alice Johnson</td>\n",
       "      <td>28</td>\n",
       "      <td>alice.johnson@example.com</td>\n",
       "      <td>1234567890</td>\n",
       "      <td>USA</td>\n",
       "      <td>72000</td>\n",
       "      <td>Marketing</td>\n",
       "      <td>2020-01-15</td>\n",
       "      <td>A</td>\n",
       "    </tr>\n",
       "    <tr>\n",
       "      <th>1</th>\n",
       "      <td>Bob Smith</td>\n",
       "      <td>34</td>\n",
       "      <td>bob.smith@example.com</td>\n",
       "      <td>9876543210</td>\n",
       "      <td>USA</td>\n",
       "      <td>85000</td>\n",
       "      <td>Sales</td>\n",
       "      <td>2019-03-22</td>\n",
       "      <td>B</td>\n",
       "    </tr>\n",
       "    <tr>\n",
       "      <th>2</th>\n",
       "      <td>Charlie Lee</td>\n",
       "      <td>22</td>\n",
       "      <td>charlie.lee@sample.net</td>\n",
       "      <td></td>\n",
       "      <td>Canada</td>\n",
       "      <td>50000</td>\n",
       "      <td>Engineering</td>\n",
       "      <td>2021-07-19</td>\n",
       "      <td>C</td>\n",
       "    </tr>\n",
       "    <tr>\n",
       "      <th>3</th>\n",
       "      <td>Diana Prince</td>\n",
       "      <td>29</td>\n",
       "      <td>diana.prince@wonder.org</td>\n",
       "      <td>9999988888</td>\n",
       "      <td>UK</td>\n",
       "      <td>95000</td>\n",
       "      <td>HR</td>\n",
       "      <td>2018-11-30</td>\n",
       "      <td>A</td>\n",
       "    </tr>\n",
       "    <tr>\n",
       "      <th>4</th>\n",
       "      <td>Ethan Ray</td>\n",
       "      <td>40</td>\n",
       "      <td>ethan.ray@company.io</td>\n",
       "      <td>5551234567</td>\n",
       "      <td>India</td>\n",
       "      <td>67000</td>\n",
       "      <td>Engineering</td>\n",
       "      <td>2022-05-10</td>\n",
       "      <td>B</td>\n",
       "    </tr>\n",
       "  </tbody>\n",
       "</table>\n",
       "</div>"
      ]
     },
     "execution_count": 6,
     "metadata": {},
     "output_type": "execute_result"
    }
   ],
   "execution_count": 6
  },
  {
   "metadata": {
    "ExecuteTime": {
     "end_time": "2025-06-15T06:21:57.533312Z",
     "start_time": "2025-06-15T06:21:57.509876Z"
    }
   },
   "cell_type": "code",
   "source": [
    "#Filtering and selecting\n",
    "age_above_30 = df[df['Age'] > 30]\n",
    "engineering_employees = df[df['Department'] == 'Engineering']\n",
    "senior_employees = df[df['Join_Date'] < '2020-01-01']\n",
    "\n",
    "american_origin_employee = df[df['Country'] == 'USA']['Name']. tolist()\n",
    "print(age_above_30)\n",
    "print(engineering_employees)\n",
    "print(senior_employees)\n",
    "\n",
    "print(f\"These are the employees from USA: {american_origin_employee}\")"
   ],
   "id": "5de2772fa320ca3c",
   "outputs": [
    {
     "name": "stdout",
     "output_type": "stream",
     "text": [
      "        Name  Age                  Email Phone_Number Country  Salary  \\\n",
      "1  Bob Smith   34  bob.smith@example.com   9876543210     USA   85000   \n",
      "4  Ethan Ray   40   ethan.ray@company.io   5551234567   India   67000   \n",
      "\n",
      "    Department  Join_Date Performance_Score  \n",
      "1        Sales 2019-03-22                 B  \n",
      "4  Engineering 2022-05-10                 B  \n",
      "          Name  Age                   Email Phone_Number Country  Salary  \\\n",
      "2  Charlie Lee   22  charlie.lee@sample.net               Canada   50000   \n",
      "4    Ethan Ray   40    ethan.ray@company.io   5551234567   India   67000   \n",
      "\n",
      "    Department  Join_Date Performance_Score  \n",
      "2  Engineering 2021-07-19                 C  \n",
      "4  Engineering 2022-05-10                 B  \n",
      "           Name  Age                    Email Phone_Number Country  Salary  \\\n",
      "1     Bob Smith   34    bob.smith@example.com   9876543210     USA   85000   \n",
      "3  Diana Prince   29  diana.prince@wonder.org   9999988888      UK   95000   \n",
      "\n",
      "  Department  Join_Date Performance_Score  \n",
      "1      Sales 2019-03-22                 B  \n",
      "3         HR 2018-11-30                 A  \n",
      "These are the employees from USA: ['Alice Johnson', 'Bob Smith']\n"
     ]
    }
   ],
   "execution_count": 16
  },
  {
   "metadata": {
    "ExecuteTime": {
     "end_time": "2025-06-15T06:23:37.482162Z",
     "start_time": "2025-06-15T06:23:37.444399Z"
    }
   },
   "cell_type": "code",
   "source": [
    "#Sorting values\n",
    "df.sort_values('Salary', ascending=False, inplace=True)\n",
    "df"
   ],
   "id": "8df2cd608cab07d6",
   "outputs": [
    {
     "data": {
      "text/plain": [
       "            Name  Age                      Email Phone_Number Country  Salary  \\\n",
       "3   Diana Prince   29    diana.prince@wonder.org   9999988888      UK   95000   \n",
       "1      Bob Smith   34      bob.smith@example.com   9876543210     USA   85000   \n",
       "0  Alice Johnson   28  alice.johnson@example.com   1234567890     USA   72000   \n",
       "4      Ethan Ray   40       ethan.ray@company.io   5551234567   India   67000   \n",
       "2    Charlie Lee   22     charlie.lee@sample.net               Canada   50000   \n",
       "\n",
       "    Department  Join_Date Performance_Score  \n",
       "3           HR 2018-11-30                 A  \n",
       "1        Sales 2019-03-22                 B  \n",
       "0    Marketing 2020-01-15                 A  \n",
       "4  Engineering 2022-05-10                 B  \n",
       "2  Engineering 2021-07-19                 C  "
      ],
      "text/html": [
       "<div>\n",
       "<style scoped>\n",
       "    .dataframe tbody tr th:only-of-type {\n",
       "        vertical-align: middle;\n",
       "    }\n",
       "\n",
       "    .dataframe tbody tr th {\n",
       "        vertical-align: top;\n",
       "    }\n",
       "\n",
       "    .dataframe thead th {\n",
       "        text-align: right;\n",
       "    }\n",
       "</style>\n",
       "<table border=\"1\" class=\"dataframe\">\n",
       "  <thead>\n",
       "    <tr style=\"text-align: right;\">\n",
       "      <th></th>\n",
       "      <th>Name</th>\n",
       "      <th>Age</th>\n",
       "      <th>Email</th>\n",
       "      <th>Phone_Number</th>\n",
       "      <th>Country</th>\n",
       "      <th>Salary</th>\n",
       "      <th>Department</th>\n",
       "      <th>Join_Date</th>\n",
       "      <th>Performance_Score</th>\n",
       "    </tr>\n",
       "  </thead>\n",
       "  <tbody>\n",
       "    <tr>\n",
       "      <th>3</th>\n",
       "      <td>Diana Prince</td>\n",
       "      <td>29</td>\n",
       "      <td>diana.prince@wonder.org</td>\n",
       "      <td>9999988888</td>\n",
       "      <td>UK</td>\n",
       "      <td>95000</td>\n",
       "      <td>HR</td>\n",
       "      <td>2018-11-30</td>\n",
       "      <td>A</td>\n",
       "    </tr>\n",
       "    <tr>\n",
       "      <th>1</th>\n",
       "      <td>Bob Smith</td>\n",
       "      <td>34</td>\n",
       "      <td>bob.smith@example.com</td>\n",
       "      <td>9876543210</td>\n",
       "      <td>USA</td>\n",
       "      <td>85000</td>\n",
       "      <td>Sales</td>\n",
       "      <td>2019-03-22</td>\n",
       "      <td>B</td>\n",
       "    </tr>\n",
       "    <tr>\n",
       "      <th>0</th>\n",
       "      <td>Alice Johnson</td>\n",
       "      <td>28</td>\n",
       "      <td>alice.johnson@example.com</td>\n",
       "      <td>1234567890</td>\n",
       "      <td>USA</td>\n",
       "      <td>72000</td>\n",
       "      <td>Marketing</td>\n",
       "      <td>2020-01-15</td>\n",
       "      <td>A</td>\n",
       "    </tr>\n",
       "    <tr>\n",
       "      <th>4</th>\n",
       "      <td>Ethan Ray</td>\n",
       "      <td>40</td>\n",
       "      <td>ethan.ray@company.io</td>\n",
       "      <td>5551234567</td>\n",
       "      <td>India</td>\n",
       "      <td>67000</td>\n",
       "      <td>Engineering</td>\n",
       "      <td>2022-05-10</td>\n",
       "      <td>B</td>\n",
       "    </tr>\n",
       "    <tr>\n",
       "      <th>2</th>\n",
       "      <td>Charlie Lee</td>\n",
       "      <td>22</td>\n",
       "      <td>charlie.lee@sample.net</td>\n",
       "      <td></td>\n",
       "      <td>Canada</td>\n",
       "      <td>50000</td>\n",
       "      <td>Engineering</td>\n",
       "      <td>2021-07-19</td>\n",
       "      <td>C</td>\n",
       "    </tr>\n",
       "  </tbody>\n",
       "</table>\n",
       "</div>"
      ]
     },
     "execution_count": 17,
     "metadata": {},
     "output_type": "execute_result"
    }
   ],
   "execution_count": 17
  },
  {
   "metadata": {
    "ExecuteTime": {
     "end_time": "2025-06-15T06:26:04.167395Z",
     "start_time": "2025-06-15T06:26:04.152622Z"
    }
   },
   "cell_type": "code",
   "source": [
    "sorted_df =  df.sort_values('Performance_Score', ascending=True)\n",
    "print(sorted_df)"
   ],
   "id": "ac82d5b91343c0c6",
   "outputs": [
    {
     "name": "stdout",
     "output_type": "stream",
     "text": [
      "            Name  Age                      Email Phone_Number Country  Salary  \\\n",
      "3   Diana Prince   29    diana.prince@wonder.org   9999988888      UK   95000   \n",
      "0  Alice Johnson   28  alice.johnson@example.com   1234567890     USA   72000   \n",
      "1      Bob Smith   34      bob.smith@example.com   9876543210     USA   85000   \n",
      "4      Ethan Ray   40       ethan.ray@company.io   5551234567   India   67000   \n",
      "2    Charlie Lee   22     charlie.lee@sample.net               Canada   50000   \n",
      "\n",
      "    Department  Join_Date Performance_Score  \n",
      "3           HR 2018-11-30                 A  \n",
      "0    Marketing 2020-01-15                 A  \n",
      "1        Sales 2019-03-22                 B  \n",
      "4  Engineering 2022-05-10                 B  \n",
      "2  Engineering 2021-07-19                 C  \n"
     ]
    }
   ],
   "execution_count": 20
  },
  {
   "metadata": {
    "ExecuteTime": {
     "end_time": "2025-06-15T06:34:26.085202Z",
     "start_time": "2025-06-15T06:34:26.069611Z"
    }
   },
   "cell_type": "code",
   "source": [
    "# Calculating the mean, and making aggregation\n",
    "\n",
    "df['Salary'].mean()\n",
    "df.groupby(\"Country\")['Salary'].mean().sort_values()"
   ],
   "id": "a57592bc1abd5449",
   "outputs": [
    {
     "data": {
      "text/plain": [
       "Country\n",
       "Canada    50000.0\n",
       "India     67000.0\n",
       "USA       78500.0\n",
       "UK        95000.0\n",
       "Name: Salary, dtype: float64"
      ]
     },
     "execution_count": 23,
     "metadata": {},
     "output_type": "execute_result"
    }
   ],
   "execution_count": 23
  }
 ],
 "metadata": {
  "kernelspec": {
   "display_name": "Python 3",
   "language": "python",
   "name": "python3"
  },
  "language_info": {
   "codemirror_mode": {
    "name": "ipython",
    "version": 2
   },
   "file_extension": ".py",
   "mimetype": "text/x-python",
   "name": "python",
   "nbconvert_exporter": "python",
   "pygments_lexer": "ipython2",
   "version": "2.7.6"
  }
 },
 "nbformat": 4,
 "nbformat_minor": 5
}
