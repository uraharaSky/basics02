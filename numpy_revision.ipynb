{
 "cells": [
  {
   "cell_type": "code",
   "execution_count": null,
   "id": "initial_id",
   "metadata": {
    "collapsed": true,
    "jupyter": {
     "outputs_hidden": true
    }
   },
   "outputs": [],
   "source": [
    "#This is going to be my revision notebook for Numpy, Pandas, Matplotlib and Seaborn"
   ]
  },
  {
   "cell_type": "code",
   "execution_count": 2,
   "id": "f6f3be6f06436f9",
   "metadata": {
    "ExecuteTime": {
     "end_time": "2025-06-08T16:39:40.937784Z",
     "start_time": "2025-06-08T16:39:40.584713Z"
    }
   },
   "outputs": [],
   "source": [
    "import numpy as np"
   ]
  },
  {
   "cell_type": "code",
   "execution_count": 43,
   "id": "d901fb6911cdab31",
   "metadata": {
    "ExecuteTime": {
     "end_time": "2025-06-08T17:47:14.563974Z",
     "start_time": "2025-06-08T17:47:14.554443Z"
    }
   },
   "outputs": [
    {
     "name": "stdout",
     "output_type": "stream",
     "text": [
      "['Akash' 'Bhubaneswar' 'Bargarh']\n"
     ]
    }
   ],
   "source": [
    "#initialising an array\n",
    "a = np.array([\"Akash\", \"Bhubaneswar\", \"Bargarh\"])\n",
    "print(a)\n"
   ]
  },
  {
   "cell_type": "code",
   "execution_count": 18,
   "id": "8b94046216f14188",
   "metadata": {
    "ExecuteTime": {
     "end_time": "2025-06-08T16:55:55.120661Z",
     "start_time": "2025-06-08T16:55:55.112143Z"
    }
   },
   "outputs": [
    {
     "name": "stdout",
     "output_type": "stream",
     "text": [
      "[[ 1  2  3  4  5]\n",
      " [ 6  7  8  9 10]]\n"
     ]
    }
   ],
   "source": [
    "b = np.array([[1,2,3,4,5],\n",
    "              [6,7,8,9,10]])    #REMEMBER THAT np.array() only takes a single argument\n",
    "print(b)"
   ]
  },
  {
   "cell_type": "code",
   "execution_count": 11,
   "id": "8b11a866fba1373f",
   "metadata": {
    "ExecuteTime": {
     "end_time": "2025-06-08T16:44:28.356797Z",
     "start_time": "2025-06-08T16:44:28.345633Z"
    }
   },
   "outputs": [
    {
     "data": {
      "text/plain": [
       "2"
      ]
     },
     "execution_count": 11,
     "metadata": {},
     "output_type": "execute_result"
    }
   ],
   "source": [
    "#getting to know the dimension of the np array\n",
    "b.ndim"
   ]
  },
  {
   "cell_type": "code",
   "execution_count": 12,
   "id": "f6466c0100c30009",
   "metadata": {
    "ExecuteTime": {
     "end_time": "2025-06-08T16:44:53.317927Z",
     "start_time": "2025-06-08T16:44:53.304896Z"
    }
   },
   "outputs": [
    {
     "data": {
      "text/plain": [
       "(2, 3)"
      ]
     },
     "execution_count": 12,
     "metadata": {},
     "output_type": "execute_result"
    }
   ],
   "source": [
    "#getting to know the shape of the np array\n",
    "b.shape"
   ]
  },
  {
   "cell_type": "code",
   "execution_count": 17,
   "id": "964293fc6bf63faf",
   "metadata": {
    "ExecuteTime": {
     "end_time": "2025-06-08T16:55:33.227798Z",
     "start_time": "2025-06-08T16:55:33.218856Z"
    }
   },
   "outputs": [
    {
     "data": {
      "text/plain": [
       "dtype('<U10')"
      ]
     },
     "execution_count": 17,
     "metadata": {},
     "output_type": "execute_result"
    }
   ],
   "source": [
    "#finding the data type of the array elements\n",
    "a.dtype"
   ]
  },
  {
   "cell_type": "code",
   "execution_count": 29,
   "id": "c4393b7c062c910c",
   "metadata": {
    "ExecuteTime": {
     "end_time": "2025-06-08T17:00:34.196360Z",
     "start_time": "2025-06-08T17:00:34.183011Z"
    }
   },
   "outputs": [
    {
     "data": {
      "text/plain": [
       "array([1, 3, 5])"
      ]
     },
     "execution_count": 29,
     "metadata": {},
     "output_type": "execute_result"
    }
   ],
   "source": [
    "b[0 , 0:5:2]"
   ]
  },
  {
   "cell_type": "code",
   "execution_count": 31,
   "id": "764546551f9d3940",
   "metadata": {
    "ExecuteTime": {
     "end_time": "2025-06-08T17:01:41.171986Z",
     "start_time": "2025-06-08T17:01:41.163290Z"
    }
   },
   "outputs": [
    {
     "name": "stdout",
     "output_type": "stream",
     "text": [
      "[[ 5  2  3  4  5]\n",
      " [11  7  8  9 10]]\n"
     ]
    }
   ],
   "source": [
    "b[:, 0] = [5,11]\n",
    "print(b)"
   ]
  },
  {
   "cell_type": "code",
   "execution_count": 34,
   "id": "562b887fd39d7ac2",
   "metadata": {
    "ExecuteTime": {
     "end_time": "2025-06-08T17:02:49.631724Z",
     "start_time": "2025-06-08T17:02:49.623650Z"
    }
   },
   "outputs": [
    {
     "name": "stdout",
     "output_type": "stream",
     "text": [
      "[[ 5  5  5  5  5]\n",
      " [11  7  8  9 10]]\n"
     ]
    }
   ],
   "source": [
    "b[0, 0:4:1] = [5]\n",
    "print(b)"
   ]
  },
  {
   "cell_type": "markdown",
   "id": "b94c6fad51c8bbab",
   "metadata": {},
   "source": [
    "## Question 1\n",
    "## a) Print the second row\n",
    "## b) Print all elements > 10\n",
    "## c) Replace all even numbers with -1\n"
   ]
  },
  {
   "cell_type": "code",
   "execution_count": 51,
   "id": "eb1977343f64646e",
   "metadata": {
    "ExecuteTime": {
     "end_time": "2025-06-08T17:58:44.936433Z",
     "start_time": "2025-06-08T17:58:44.926460Z"
    }
   },
   "outputs": [
    {
     "name": "stdout",
     "output_type": "stream",
     "text": [
      "[[ 1  2  3  4  5]\n",
      " [ 6  7  8  9 10]\n",
      " [11 12 13 14 15]\n",
      " [16 17 18 19 20]]\n"
     ]
    }
   ],
   "source": [
    "arr = np.arange(1,21).reshape(4,5)\n",
    "print(arr)\n",
    "\n",
    "# second_row = arr[1,:]\n",
    "# print(second_row)\n",
    "#\n",
    "# elements = arr[arr > 10]\n",
    "# print(elements)\n",
    "#\n",
    "# arr[arr % 2 == 0] = -1\n",
    "# print(arr)\n"
   ]
  },
  {
   "cell_type": "markdown",
   "id": "828d95dd1393579e",
   "metadata": {},
   "source": [
    "## Question 2\n",
    "# a) Add a row [10, 10, 10] to `a` using broadcasting\n",
    "# b) Find column-wise sum (axis=0)\n",
    "# c) Stack the original and modified arrays vertically"
   ]
  },
  {
   "cell_type": "code",
   "execution_count": 55,
   "id": "227fcf9ac3754cfe",
   "metadata": {
    "ExecuteTime": {
     "end_time": "2025-06-08T18:02:01.294231Z",
     "start_time": "2025-06-08T18:02:01.284693Z"
    }
   },
   "outputs": [
    {
     "name": "stdout",
     "output_type": "stream",
     "text": [
      "[[ 1  2  3  4  5]\n",
      " [ 6  7  8  9 10]\n",
      " [11 12 13 14 15]\n",
      " [16 17 18 19 20]\n",
      " [11 12 13 14 15]\n",
      " [16 17 18 19 20]\n",
      " [21 22 23 24 25]\n",
      " [26 27 28 29 30]]\n"
     ]
    }
   ],
   "source": [
    "arr = np.array([[ 1 ,2,  3,  4,  5],\n",
    "                [ 6,  7,  8,  9, 10],\n",
    "               [11, 12, 13, 14, 15],\n",
    "                [16, 17, 18, 19, 20]])\n",
    "\n",
    "added = arr + np.array([10,10,10,10, 10])\n",
    "\n",
    "stacked = np.vstack([arr, added])\n",
    "print(stacked)"
   ]
  },
  {
   "cell_type": "code",
   "execution_count": null,
   "id": "f639bfd35dec05cb",
   "metadata": {},
   "outputs": [],
   "source": []
  }
 ],
 "metadata": {
  "kernelspec": {
   "display_name": "Python 3 (ipykernel)",
   "language": "python",
   "name": "python3"
  },
  "language_info": {
   "codemirror_mode": {
    "name": "ipython",
    "version": 3
   },
   "file_extension": ".py",
   "mimetype": "text/x-python",
   "name": "python",
   "nbconvert_exporter": "python",
   "pygments_lexer": "ipython3",
   "version": "3.13.3"
  }
 },
 "nbformat": 4,
 "nbformat_minor": 5
}
